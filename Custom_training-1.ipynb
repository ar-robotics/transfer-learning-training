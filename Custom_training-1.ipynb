{
  "cells": [
    {
      "cell_type": "markdown",
      "metadata": {},
      "source": [
        "# Custom dataset people mediapipe Training"
      ]
    },
    {
      "cell_type": "code",
      "execution_count": null,
      "metadata": {
        "colab": {
          "base_uri": "https://localhost:8080/"
        },
        "id": "-94RhG5x-Bxz",
        "outputId": "d08c5105-fec8-43ee-be04-8e9ef38cdcf5"
      },
      "outputs": [],
      "source": [
        "#!pip install 'keras<3.0.0' mediapipe-model-maker"
      ]
    },
    {
      "cell_type": "code",
      "execution_count": null,
      "metadata": {
        "colab": {
          "base_uri": "https://localhost:8080/"
        },
        "id": "ulNlmQVX-wTX",
        "outputId": "871759d4-94f3-43b5-a047-349466ede640"
      },
      "outputs": [],
      "source": [
        "import os\n",
        "import tensorflow as tf\n",
        "#assert tf.__version__.startswith('2')\n",
        "from mediapipe_model_maker import object_detector"
      ]
    },
    {
      "cell_type": "code",
      "execution_count": null,
      "metadata": {
        "id": "EddI6pFPJ0dm"
      },
      "outputs": [],
      "source": [
        "class TransferLearning():\n",
        "    \"\"\" Transfer Learning class for object detection using MediaPipe Model Maker\n",
        "    2 datasets are required: train and validation\n",
        "    \n",
        "    Attributes:\n",
        "        train_dataset_path: path to the train dataset\n",
        "        validation_dataset_path: path to the validation dataset\n",
        "        model: model to be trained\n",
        "        train_data: train dataset\n",
        "        validation_data: validation dataset\n",
        "    \"\"\"\n",
        "    def __init__(self):\n",
        "        self.train_dataset_path = \"/content/Person-Dataset-1/train\"\n",
        "        self.validation_dataset_path = \"/content/Person-Dataset-1/valid\" \n",
        "        self.model = None\n",
        "        self.train_data = None\n",
        "        self.val_data = None\n",
        "        self.hparams = None\n",
        "        self.options = None\n",
        "        \n",
        "    def load_data(self):\n",
        "        \"\"\" Load train and validation datasets from the given paths        \"\"\"\n",
        "        self.train_data = object_detector.DataLoader.from_pascal_voc(self.train_dataset_path)\n",
        "        self.validation_data = object_detector.DataLoader.from_pascal_voc(self.validation_dataset_path)\n",
        "    \n",
        "    def train_model(self,batch_size=8, learning_rate=0.3, epochs=50, export_dir='exported_model'):\n",
        "        \"\"\" Train the model using the loaded datasets\n",
        "        \n",
        "        Args:\n",
        "            batch_size: batch size for training\n",
        "            learning_rate: learning rate for training\n",
        "            epochs: number of epochs for training\n",
        "            export_dir: directory to export the trained model\n",
        "        \"\"\"\n",
        "        self.hparams = object_detector.HParams(batch_size, learning_rate, epochs, export_dir)\n",
        "        self.options = object_detector.ObjectDetectorOptions(\n",
        "            supported_model=object_detector.SupportedModels.MOBILENET_V2,\n",
        "            hparams=self.hparams\n",
        "        )\n",
        "        \n",
        "        self.model = object_detector.ObjectDetector.create(\n",
        "            train_data=self.train_data,\n",
        "            validation_data=self.val_data,\n",
        "            options=self.options)\n",
        "\n",
        "    def evaluate_model(self,batch_size=8):\n",
        "        \"\"\" Evaluate the trained model \n",
        "        \n",
        "        Args:\n",
        "            batch_size: batch size for evaluation\n",
        "        \"\"\"\n",
        "        loss, metrics = self.model.evaluate(self.val_data,batch_size)\n",
        "        print(f\"Validation loss: {loss}\")\n",
        "        print(f\"Validation coco metrics: {metrics}\")\n",
        "    \n",
        "    def export_model(self):\n",
        "        \"\"\" Export the trained model \"\"\"\n",
        "        self.model.export('people-detection.tflite')\n",
        "        print(f\"Model exported\")\n",
        "    \n",
        "    \n"
      ]
    },
    {
      "cell_type": "code",
      "execution_count": null,
      "metadata": {},
      "outputs": [],
      "source": [
        "#running functions, if docs need it like this\n",
        "if __name__ == \"__main__\":\n",
        "    TransferLearning_model = TransferLearning()\n",
        "    TransferLearning_model.load_data()\n",
        "    TransferLearning_model.train_model()\n",
        "\n"
      ]
    },
    {
      "cell_type": "code",
      "execution_count": null,
      "metadata": {
        "colab": {
          "base_uri": "https://localhost:8080/"
        },
        "id": "wZTLElC3RNoW",
        "outputId": "08db87cf-53c6-44b5-86a9-37c36bdd34cb"
      },
      "outputs": [],
      "source": [
        "\n",
        "if __name__ == \"__main__\":\n",
        "    TransferLearning_model.evaluate_model()\n"
      ]
    },
    {
      "cell_type": "code",
      "execution_count": null,
      "metadata": {
        "colab": {
          "base_uri": "https://localhost:8080/",
          "height": 1000
        },
        "id": "bo4RkJVsRXmL",
        "outputId": "627c104e-2a5b-479f-fcf6-2bf15ace56da"
      },
      "outputs": [],
      "source": [
        "if __name__ == \"__main__\":\n",
        "    TransferLearning_model.export_model()"
      ]
    }
  ],
  "metadata": {
    "accelerator": "GPU",
    "colab": {
      "gpuType": "T4",
      "provenance": []
    },
    "kernelspec": {
      "display_name": "Python 3 (myenv)",
      "name": "python3"
    },
    "language_info": {
      "codemirror_mode": {
        "name": "ipython",
        "version": 3
      },
      "file_extension": ".py",
      "mimetype": "text/x-python",
      "name": "python",
      "nbconvert_exporter": "python",
      "pygments_lexer": "ipython3",
      "version": "3.8.19"
    }
  },
  "nbformat": 4,
  "nbformat_minor": 0
}
